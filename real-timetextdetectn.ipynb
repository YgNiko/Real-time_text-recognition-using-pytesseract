{
 "cells": [
  {
   "cell_type": "markdown",
   "id": "d5a23ec8",
   "metadata": {},
   "source": [
    "# REAL-TIME TEXT DETECTION USING OPENCV AND PYTESSERACT."
   ]
  },
  {
   "cell_type": "code",
   "execution_count": null,
   "id": "8fb52aa2",
   "metadata": {},
   "outputs": [],
   "source": [
    "#before executing the code make sure you first setup pytesseract on your computer. Also install it through anaconda prompt as \n",
    "# pip install pytesseract"
   ]
  },
  {
   "cell_type": "code",
   "execution_count": null,
   "id": "8c28635a",
   "metadata": {},
   "outputs": [],
   "source": [
    "#importing pytesseract\n",
    "import pytesseract"
   ]
  },
  {
   "cell_type": "code",
   "execution_count": null,
   "id": "c31f6229",
   "metadata": {},
   "outputs": [],
   "source": [
    "#importing opencv\n",
    "import cv2 \n",
    "#install opencv through prompt as \n",
    "#pip install opencv-python if this line of code shows error. "
   ]
  },
  {
   "cell_type": "code",
   "execution_count": null,
   "id": "35e35fd2",
   "metadata": {},
   "outputs": [],
   "source": [
    "#configuring pytesseract\n",
    "pytesseract.pytesseract.tesseract_cmd = r'C:\\\\Program Files\\\\Tesseract-OCR\\\\tesseract.exe'\n",
    "#error on this line is probably because the location of your tessseract.exe is different than mine."
   ]
  },
  {
   "cell_type": "code",
   "execution_count": null,
   "id": "09fe0587",
   "metadata": {},
   "outputs": [],
   "source": [
    "front_scale = 1.5\n",
    "font= cv2.FONT_HERSHEY_PLAIN"
   ]
  },
  {
   "cell_type": "code",
   "execution_count": null,
   "id": "3f96650d",
   "metadata": {},
   "outputs": [],
   "source": [
    "#loading the webcam\n",
    "cap= cv2.VideoCapture(1)"
   ]
  },
  {
   "cell_type": "code",
   "execution_count": null,
   "id": "424b9264",
   "metadata": {},
   "outputs": [],
   "source": [
    "#if webcam couldnt be read for what so reasons.\n",
    "if not cap.isOpened():\n",
    "    cap= cv2.VideoCapture(0)\n",
    "if not cap.isOpened():\n",
    "    raise IOError(\"Cannot Open Video\")"
   ]
  },
  {
   "cell_type": "code",
   "execution_count": null,
   "id": "2ad60915",
   "metadata": {},
   "outputs": [],
   "source": [
    "#please watch my video explanation to understand the below codes. \n",
    "cntr =0;\n",
    "while True:\n",
    "    ret, frame =cap.read()\n",
    "    cntr= cntr+1;\n",
    "    if ((cntr%20)==0):\n",
    "        \n",
    "            imgH, imgW,_ = frame.shape\n",
    "            \n",
    "            x1,y1,w1,h1 = 0,0,imgH,imgW\n",
    "            \n",
    "            imgchar =pytesseract.image_to_string(frame)\n",
    "            \n",
    "            imgboxes= pytesseract.image_to_boxes(frame)\n",
    "            for boxes in imgboxes.splitlines():\n",
    "                boxes= boxes.split(' ')\n",
    "                x,y,w,h= int(boxes[1]), int(boxes[2]), int(boxes[3]), int(boxes[4])\n",
    "                cv2.rectangle(frame, (x, imgH-y), (w, imgH-h),(0,0,255),3)\n",
    "                \n",
    "                cv2.putText(frame, imgchar, (x1 + int(w1/50),y1 + int(h1/50)), cv2.FONT_HERSHEY_SIMPLEX, 0.7,(255,0,0),2)\n",
    "                \n",
    "                font= cv2.FONT_HERSHEY_SIMPLEX\n",
    "                \n",
    "                cv2.imshow('Text detection',frame)\n",
    "                \n",
    "                if cv2.waitKey(2) & 0xFF == ord('a'):\n",
    "                    break\n",
    "                    \n",
    "cap.release()\n",
    "cv2.destroyAllWindows()"
   ]
  },
  {
   "cell_type": "code",
   "execution_count": null,
   "id": "a918fc94",
   "metadata": {},
   "outputs": [],
   "source": []
  }
 ],
 "metadata": {
  "kernelspec": {
   "display_name": "Python 3",
   "language": "python",
   "name": "python3"
  },
  "language_info": {
   "codemirror_mode": {
    "name": "ipython",
    "version": 3
   },
   "file_extension": ".py",
   "mimetype": "text/x-python",
   "name": "python",
   "nbconvert_exporter": "python",
   "pygments_lexer": "ipython3",
   "version": "3.8.8"
  }
 },
 "nbformat": 4,
 "nbformat_minor": 5
}
