{
 "cells": [
  {
   "cell_type": "code",
   "execution_count": 1,
   "id": "28a9c611",
   "metadata": {},
   "outputs": [],
   "source": [
    "#imported pytesseract\n",
    "import pytesseract"
   ]
  },
  {
   "cell_type": "code",
   "execution_count": 2,
   "id": "4e034eea",
   "metadata": {},
   "outputs": [],
   "source": [
    "#imported opencv\n",
    "import cv2"
   ]
  },
  {
   "cell_type": "code",
   "execution_count": 3,
   "id": "9f2e3a5e",
   "metadata": {},
   "outputs": [],
   "source": [
    "#optional libraries as per needs\n",
    "import numpy as np\n",
    "import matplotlib.pyplot as plt"
   ]
  },
  {
   "cell_type": "code",
   "execution_count": 4,
   "id": "aef13dfb",
   "metadata": {},
   "outputs": [],
   "source": [
    "#configuration of tesseract\n",
    "pytesseract.pytesseract.tesseract_cmd = r'C:\\\\Program Files\\\\Tesseract-OCR\\\\tesseract.exe'"
   ]
  },
  {
   "cell_type": "code",
   "execution_count": 5,
   "id": "1fd6f3a3",
   "metadata": {},
   "outputs": [],
   "source": [
    "front_scale = 1.5\n",
    "font= cv2.FONT_HERSHEY_PLAIN"
   ]
  },
  {
   "cell_type": "code",
   "execution_count": 1,
   "id": "545277bb",
   "metadata": {},
   "outputs": [],
   "source": [
    "#loading the webcam\n",
    "cap= cv2.VideoCapture(1)"
   ]
  },
  {
   "cell_type": "code",
   "execution_count": 7,
   "id": "924486a7",
   "metadata": {},
   "outputs": [],
   "source": [
    "#if webcam couldnt be read for what so reasons.\n",
    "if not cap.isOpened():\n",
    "    cap= cv2.VideoCapture(0)\n",
    "if not cap.isOpened():\n",
    "    raise IOError(\"Cannot Open Video\")\n"
   ]
  },
  {
   "cell_type": "code",
   "execution_count": null,
   "id": "dbee0420",
   "metadata": {},
   "outputs": [],
   "source": [
    "cntr =0;\n",
    "while True:\n",
    "    ret, frame =cap.read()\n",
    "    cntr= cntr+1;\n",
    "    if ((cntr%20)==0):\n",
    "        \n",
    "            imgH, imgW,_ = frame.shape\n",
    "            \n",
    "            x1,y1,w1,h1 = 0,0,imgH,imgW\n",
    "            \n",
    "            imgchar =pytesseract.image_to_string(frame)\n",
    "            \n",
    "            imgboxes= pytesseract.image_to_boxes(frame)\n",
    "            for boxes in imgboxes.splitlines():\n",
    "                boxes= boxes.split(' ')\n",
    "                x,y,w,h= int(boxes[1]), int(boxes[2]), int(boxes[3]), int(boxes[4])\n",
    "                cv2.rectangle(frame, (x, imgH-y), (w, imgH-h),(0,0,255),3)\n",
    "                \n",
    "                cv2.putText(frame, imgchar, (x1 + int(w1/50),y1 + int(h1/50)), cv2.FONT_HERSHEY_SIMPLEX, 0.7,(255,0,0),2)\n",
    "                \n",
    "                font= cv2.FONT_HERSHEY_SIMPLEX\n",
    "                \n",
    "                cv2.imshow('Text detection',frame)\n",
    "                \n",
    "                if cv2.waitKey(2) & 0xFF == ord('a'):\n",
    "                    break\n",
    "                    \n",
    "cap.release()\n",
    "cv2.destroyAllWindows()"
   ]
  }
 ],
 "metadata": {
  "kernelspec": {
   "display_name": "Python 3 (ipykernel)",
   "language": "python",
   "name": "python3"
  },
  "language_info": {
   "codemirror_mode": {
    "name": "ipython",
    "version": 3
   },
   "file_extension": ".py",
   "mimetype": "text/x-python",
   "name": "python",
   "nbconvert_exporter": "python",
   "pygments_lexer": "ipython3",
   "version": "3.9.7"
  }
 },
 "nbformat": 4,
 "nbformat_minor": 5
}
